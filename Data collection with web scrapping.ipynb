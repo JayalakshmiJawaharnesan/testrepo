{
 "cells": [
  {
   "cell_type": "code",
   "execution_count": 1,
   "id": "d12b7f8c",
   "metadata": {},
   "outputs": [
    {
     "name": "stdout",
     "output_type": "stream",
     "text": [
      "Requirement already satisfied: beautifulsoup4 in c:\\users\\vviet adviser\\anaconda3\\lib\\site-packages (4.11.1)\n",
      "Requirement already satisfied: soupsieve>1.2 in c:\\users\\vviet adviser\\anaconda3\\lib\\site-packages (from beautifulsoup4) (2.3.1)\n",
      "Requirement already satisfied: requests in c:\\users\\vviet adviser\\anaconda3\\lib\\site-packages (2.32.3)\n",
      "Requirement already satisfied: certifi>=2017.4.17 in c:\\users\\vviet adviser\\anaconda3\\lib\\site-packages (from requests) (2021.10.8)\n",
      "Requirement already satisfied: idna<4,>=2.5 in c:\\users\\vviet adviser\\anaconda3\\lib\\site-packages (from requests) (3.3)\n",
      "Requirement already satisfied: charset-normalizer<4,>=2 in c:\\users\\vviet adviser\\anaconda3\\lib\\site-packages (from requests) (2.0.4)\n",
      "Requirement already satisfied: urllib3<3,>=1.21.1 in c:\\users\\vviet adviser\\anaconda3\\lib\\site-packages (from requests) (1.26.9)\n"
     ]
    }
   ],
   "source": [
    "!pip3 install beautifulsoup4\n",
    "!pip3 install requests"
   ]
  },
  {
   "cell_type": "code",
   "execution_count": 2,
   "id": "6f01f6fb",
   "metadata": {},
   "outputs": [],
   "source": [
    "import requests\n",
    "from bs4 import BeautifulSoup\n",
    "import unicodedata\n",
    "import pandas as pd\n"
   ]
  },
  {
   "cell_type": "code",
   "execution_count": 3,
   "id": "e87c1163",
   "metadata": {},
   "outputs": [],
   "source": [
    "def date_time(table_cells):\n",
    "    return [data_time.strip() for data_time in list(table_cells.strings)][0:2]\n",
    "\n",
    "def booster_version(table_cells):\n",
    "    out = ''.join([booster_version for i, booster_version in enumerate(table_cells.strings) if i % 2 == 0][0:-1])\n",
    "    return out\n",
    "\n",
    "def landing_status(table_cells):\n",
    "    out = [i for i in table_cells.strings][0]\n",
    "    return out\n",
    "\n",
    "def get_mass(table_cells):\n",
    "    mass = unicodedata.normalize(\"NFKD\", table_cells.text).strip()\n",
    "    if mass:\n",
    "        mass.find(\"kg\")\n",
    "        new_mass = mass[0:mass.find(\"kg\") + 2]\n",
    "    else:\n",
    "        new_mass = 0\n",
    "    return new_mass\n",
    "\n",
    "def extract_column_from_header(row):\n",
    "    if row.br:\n",
    "        row.br.extract()\n",
    "    if row.a:\n",
    "        row.a.extract()\n",
    "    if row.sup:\n",
    "        row.sup.extract()\n",
    "        \n",
    "    colunm_name = ' '.join(row.contents)\n",
    "    \n",
    "    # Filter the digit and empty names\n",
    "    if not(colunm_name.strip().isdigit()):\n",
    "        colunm_name = colunm_name.strip()\n",
    "        return colunm_name\n"
   ]
  },
  {
   "cell_type": "code",
   "execution_count": 4,
   "id": "2ecd3061",
   "metadata": {},
   "outputs": [],
   "source": [
    "static_url = \"https://en.wikipedia.org/w/index.php?title=List_of_Falcon_9_and_Falcon_Heavy_launches&oldid=1027686922\"\n",
    "response = requests.get(static_url)\n"
   ]
  },
  {
   "cell_type": "code",
   "execution_count": 5,
   "id": "f25d92fe",
   "metadata": {},
   "outputs": [],
   "source": [
    "soup = BeautifulSoup(response.text, 'html.parser')\n"
   ]
  },
  {
   "cell_type": "code",
   "execution_count": 6,
   "id": "abcf4260",
   "metadata": {},
   "outputs": [
    {
     "name": "stdout",
     "output_type": "stream",
     "text": [
      "List of Falcon 9 and Falcon Heavy launches - Wikipedia\n"
     ]
    }
   ],
   "source": [
    "print(soup.title.string)\n"
   ]
  },
  {
   "cell_type": "code",
   "execution_count": 7,
   "id": "31a47b81",
   "metadata": {},
   "outputs": [],
   "source": [
    "html_tables = soup.find_all('table', class_=\"wikitable plainrowheaders collapsible\")\n"
   ]
  },
  {
   "cell_type": "code",
   "execution_count": 8,
   "id": "456a1f31",
   "metadata": {},
   "outputs": [
    {
     "name": "stdout",
     "output_type": "stream",
     "text": [
      "['Flight No.', 'Date and time ( )', 'Launch site', 'Payload', 'Payload mass', 'Orbit', 'Customer', 'Launch outcome']\n"
     ]
    }
   ],
   "source": [
    "first_launch_table = html_tables[2]\n",
    "column_names = []\n",
    "for th in first_launch_table.find_all('th'):\n",
    "    name = extract_column_from_header(th)\n",
    "    if name is not None and len(name) > 0:\n",
    "        column_names.append(name)\n",
    "\n",
    "print(column_names)\n"
   ]
  },
  {
   "cell_type": "code",
   "execution_count": 9,
   "id": "b45e0d43",
   "metadata": {},
   "outputs": [],
   "source": [
    "launch_dict = dict.fromkeys(column_names)\n",
    "del launch_dict['Date and time ( )']\n",
    "\n",
    "# Initialize each key with an empty list\n",
    "launch_dict['Flight No.'] = []\n",
    "launch_dict['Launch site'] = []\n",
    "launch_dict['Payload'] = []\n",
    "launch_dict['Payload mass'] = []\n",
    "launch_dict['Orbit'] = []\n",
    "launch_dict['Customer'] = []\n",
    "launch_dict['Launch outcome'] = []\n",
    "launch_dict['Version Booster'] = []\n",
    "launch_dict['Booster landing'] = []\n",
    "launch_dict['Date'] = []\n",
    "launch_dict['Time'] = []"
   ]
  },
  {
   "cell_type": "code",
   "execution_count": 10,
   "id": "7e235a44",
   "metadata": {},
   "outputs": [],
   "source": [
    "extracted_row = 0\n",
    "\n",
    "# Loop through the tables\n",
    "for table_number, table in enumerate(soup.find_all('table', \"wikitable plainrowheaders collapsible\")):\n",
    "    # Get table rows\n",
    "    for rows in table.find_all(\"tr\"):\n",
    "        if rows.th:\n",
    "            if rows.th.string:\n",
    "                flight_number = rows.th.string.strip()\n",
    "                flag = flight_number.isdigit()\n",
    "        else:\n",
    "            flag = False\n",
    "        \n",
    "        row = rows.find_all('td')\n",
    "        \n",
    "        if flag:\n",
    "            extracted_row += 1\n",
    "\n",
    "            # Flight Number\n",
    "            launch_dict['Flight No.'].append(flight_number)\n",
    "\n",
    "            # Date and Time\n",
    "            datatimelist = date_time(row[0])\n",
    "            date = datatimelist[0].strip(',')\n",
    "            time = datatimelist[1]\n",
    "            launch_dict['Date'].append(date)\n",
    "            launch_dict['Time'].append(time)\n",
    "\n",
    "            # Booster Version\n",
    "            bv = booster_version(row[1])\n",
    "            if not bv and row[1] and row[1].a:\n",
    "                bv = row[1].a.string\n",
    "            launch_dict['Version Booster'].append(bv)\n",
    "\n",
    "            # Launch Site\n",
    "            launch_site = row[2].a.string if row[2] and row[2].a else None\n",
    "            launch_dict['Launch site'].append(launch_site)\n",
    "\n",
    "            # Payload\n",
    "            payload = row[3].a.string if row[3] and row[3].a else None\n",
    "            launch_dict['Payload'].append(payload)\n",
    "\n",
    "            # Payload Mass\n",
    "            payload_mass = get_mass(row[4]) if row[4] else None\n",
    "            launch_dict['Payload mass'].append(payload_mass)\n",
    "\n",
    "            # Orbit\n",
    "            orbit = row[5].a.string if row[5] and row[5].a else None\n",
    "            launch_dict['Orbit'].append(orbit)\n",
    "\n",
    "            # Customer\n",
    "            customer = row[6].a.string if row[6] and row[6].a else None\n",
    "            launch_dict['Customer'].append(customer)\n",
    "\n",
    "            # Launch Outcome\n",
    "            launch_outcome = list(row[7].strings)[0] if row[7] and row[7].strings else None\n",
    "            launch_dict['Launch outcome'].append(launch_outcome)\n",
    "\n",
    "            # Booster Landing\n",
    "            booster_landing = landing_status(row[8]) if row[8] else None\n",
    "            launch_dict['Booster landing'].append(booster_landing)\n"
   ]
  },
  {
   "cell_type": "code",
   "execution_count": 11,
   "id": "22aa78cc",
   "metadata": {},
   "outputs": [],
   "source": [
    "df = pd.DataFrame({key: pd.Series(value) for key, value in launch_dict.items()})\n"
   ]
  },
  {
   "cell_type": "code",
   "execution_count": 12,
   "id": "e6b2d728",
   "metadata": {},
   "outputs": [],
   "source": [
    "df.to_csv('spacex_web_scraped.csv', index=False)\n"
   ]
  },
  {
   "cell_type": "code",
   "execution_count": null,
   "id": "594fe735",
   "metadata": {},
   "outputs": [],
   "source": []
  }
 ],
 "metadata": {
  "kernelspec": {
   "display_name": "Python 3 (ipykernel)",
   "language": "python",
   "name": "python3"
  },
  "language_info": {
   "codemirror_mode": {
    "name": "ipython",
    "version": 3
   },
   "file_extension": ".py",
   "mimetype": "text/x-python",
   "name": "python",
   "nbconvert_exporter": "python",
   "pygments_lexer": "ipython3",
   "version": "3.9.12"
  }
 },
 "nbformat": 4,
 "nbformat_minor": 5
}
